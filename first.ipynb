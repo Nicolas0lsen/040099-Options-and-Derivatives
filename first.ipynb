{
 "cells": [
  {
   "cell_type": "code",
   "execution_count": 1,
   "metadata": {},
   "outputs": [],
   "source": [
    "import numpy as np\n",
    "import pandas as pd\n",
    "import matplotlib.pyplot as pyplot"
   ]
  },
  {
   "cell_type": "code",
   "execution_count": 18,
   "metadata": {},
   "outputs": [],
   "source": [
    "strike = 0\n",
    "spot_0 = 50\n",
    "Time = 0\n",
    "t = 10/360\n",
    "Ru = 1.02\n",
    "Rd = 0.98"
   ]
  },
  {
   "cell_type": "code",
   "execution_count": 5,
   "metadata": {},
   "outputs": [
    {
     "data": {
      "text/plain": [
       "array([[0., 0., 0.],\n",
       "       [0., 0., 0.],\n",
       "       [0., 3., 0.]])"
      ]
     },
     "execution_count": 5,
     "metadata": {},
     "output_type": "execute_result"
    }
   ],
   "source": [
    "alfa = np.zeros((3,3))\n",
    "alfa[2,1] = 3\n",
    "alfa"
   ]
  },
  {
   "cell_type": "code",
   "execution_count": null,
   "metadata": {},
   "outputs": [],
   "source": [
    "def stock_prices(spot_0, Time, Ru, Rd):\n",
    "    empty_matrix = np.zeros((Time-1, Time-1))\n",
    "\n",
    "    for i in range(0,Time+1,1):\n",
    "        empty_matrix[]\n",
    "    return empty_matrix"
   ]
  },
  {
   "cell_type": "code",
   "execution_count": 19,
   "metadata": {},
   "outputs": [],
   "source": [
    "Time = 2\n",
    "empty_matrix = np.zeros((Time+1, Time+1))\n",
    "empty_matrix[0,0] = spot_0\n",
    "\n",
    "for i in range(1,Time+1,1):\n",
    "    for j in range(0,i,1):\n",
    "        iterator = i +1\n",
    "        ups = j\n",
    "\n",
    "\n",
    "        stock_price = spot_0 * Ru**(i-j) + Rd**(j)\n",
    "        empty_matrix[i,j] = stock_price"
   ]
  },
  {
   "cell_type": "code",
   "execution_count": null,
   "metadata": {},
   "outputs": [
    {
     "data": {
      "text/plain": [
       "array([50.,  0.,  0.])"
      ]
     },
     "execution_count": 21,
     "metadata": {},
     "output_type": "execute_result"
    }
   ],
   "source": [
    "empty_matrix[0,]"
   ]
  },
  {
   "cell_type": "code",
   "execution_count": 22,
   "metadata": {},
   "outputs": [
    {
     "data": {
      "text/plain": [
       "array([[50.  , 52.  , 53.02],\n",
       "       [ 0.  ,  0.  , 51.98],\n",
       "       [ 0.  ,  0.  ,  0.  ]])"
      ]
     },
     "execution_count": 22,
     "metadata": {},
     "output_type": "execute_result"
    }
   ],
   "source": [
    "empty_matrix.T"
   ]
  }
 ],
 "metadata": {
  "kernelspec": {
   "display_name": "Python 3",
   "language": "python",
   "name": "python3"
  },
  "language_info": {
   "codemirror_mode": {
    "name": "ipython",
    "version": 3
   },
   "file_extension": ".py",
   "mimetype": "text/x-python",
   "name": "python",
   "nbconvert_exporter": "python",
   "pygments_lexer": "ipython3",
   "version": "3.9.13"
  }
 },
 "nbformat": 4,
 "nbformat_minor": 2
}
